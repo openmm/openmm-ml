{
 "cells": [
  {
   "attachments": {},
   "cell_type": "markdown",
   "metadata": {},
   "source": [
    "# Example: using OpenMM to run a simulation with a NequIP ML potential\n",
    "\n",
    "You can run this example directly in your browser: [![Open On Colab](https://colab.research.google.com/assets/colab-badge.svg)](https://colab.research.google.com/github/sef43/openmm-ml/blob/nequip/examples/nequip/run_nequip.ipynb)"
   ]
  },
  {
   "cell_type": "markdown",
   "metadata": {},
   "source": [
    "## Install Conda\n",
    "\n",
    "[Conda](https://docs.conda.io/) is a package and environment manager. On Google Colab, Conda is installed with [conda-colab](https://github.com/jaimergp/condacolab). On your computer, you should follow these [installation instructions](https://docs.conda.io/projects/conda/en/latest/user-guide/install/index.html).\n",
    "\n",
    "⚠️ Do not use conda-colab on your computer!"
   ]
  },
  {
   "cell_type": "code",
   "execution_count": null,
   "metadata": {},
   "outputs": [],
   "source": [
    "!pip install -q condacolab\n",
    "import condacolab\n",
    "\n",
    "condacolab.install_miniforge()  # use mamba on colab because it is faster than conda"
   ]
  },
  {
   "attachments": {},
   "cell_type": "markdown",
   "metadata": {},
   "source": [
    "## Install software\n",
    "\n",
    "First install everything we can from [conda-forge](https://conda-forge.org/).\n",
    "Then use pip.\n",
    "\n",
    "⚠️ The installation might take up to 10 min!"
   ]
  },
  {
   "cell_type": "code",
   "execution_count": null,
   "metadata": {},
   "outputs": [],
   "source": [
    "!mamba install -c conda-forge openmm-ml nnpops\n",
    "!pip install nequip"
   ]
  },
  {
   "attachments": {},
   "cell_type": "markdown",
   "metadata": {},
   "source": [
    "## Get the files we need to run the example\n",
    "\n",
    "⚠️ Run this cell only if you are using Google Colab. If running locally, the files are already available."
   ]
  },
  {
   "cell_type": "code",
   "execution_count": null,
   "metadata": {},
   "outputs": [],
   "source": [
    "!wget https://raw.githubusercontent.com/openmm/openmm-ml/main/examples/nequip/toluene.pdb\n",
    "!wget https://raw.githubusercontent.com/openmm/openmm-ml/main/examples/nequip/toluene-deployed.pth"
   ]
  },
  {
   "attachments": {},
   "cell_type": "markdown",
   "metadata": {},
   "source": [
    "## Run simulation"
   ]
  },
  {
   "cell_type": "code",
   "execution_count": null,
   "metadata": {},
   "outputs": [],
   "source": [
    "from sys import stdout\n",
    "\n",
    "import openmm\n",
    "import openmm.app as app\n",
    "import openmm.unit as unit\n",
    "\n",
    "from openmmml import MLPotential\n",
    "\n",
    "\"\"\"\n",
    "Uses a deployed trained NequIP model from the basic example on https://github.com/mir-group/nequip\n",
    ">>> nequip-train configs/example.yaml\n",
    ">>> nequip-deploy build --train-dir path/to/training/session/ toluene-deployed.pth\n",
    "\"\"\"\n",
    "\n",
    "# Load toluene structure\n",
    "pdb = app.PDBFile(\"toluene.pdb\")\n",
    "\n",
    "# Create a System with NequIP MLP\n",
    "\n",
    "# Need to specify the unit conversion factors from the NequIP model units to OpenMM units.\n",
    "# Distance: model is in Angstrom, OpenMM is in nanometers\n",
    "A_to_nm = 0.1\n",
    "# Energy: model is in kcal/mol, OpenMM is in kJ/mol\n",
    "kcal_to_kJ_per_mol = 4.184\n",
    "\n",
    "potential = MLPotential(\n",
    "    \"nequip\",\n",
    "    modelPath=\"toluene-deployed.pth\",\n",
    "    lengthScale=A_to_nm,\n",
    "    energyScale=kcal_to_kJ_per_mol,\n",
    ")\n",
    "\n",
    "system = potential.createSystem(pdb.topology)\n",
    "\n",
    "# Run langevin dynamics at 300K for 1000 steps\n",
    "integrator = openmm.LangevinIntegrator(\n",
    "    300 * unit.kelvin, 1.0 / unit.picoseconds, 1.0 * unit.femtosecond\n",
    ")\n",
    "simulation = app.Simulation(pdb.topology, system, integrator)\n",
    "simulation.context.setPositions(pdb.positions)\n",
    "simulation.reporters.append(app.DCDReporter(\"output.dcd\", 100))\n",
    "simulation.reporters.append(\n",
    "    app.StateDataReporter(\n",
    "        stdout, 100, step=True, potentialEnergy=True, temperature=True, speed=True\n",
    "    )\n",
    ")\n",
    "\n",
    "# Minimize the energy\n",
    "simulation.minimizeEnergy()\n",
    "\n",
    "# Set the velocities to 300K and run 1000 steps\n",
    "simulation.context.setVelocitiesToTemperature(300*unit.kelvin)\n",
    "simulation.step(1000)"
   ]
  }
 ],
 "metadata": {
  "kernelspec": {
   "display_name": "openmm-ml",
   "language": "python",
   "name": "python3"
  },
  "language_info": {
   "codemirror_mode": {
    "name": "ipython",
    "version": 3
   },
   "file_extension": ".py",
   "mimetype": "text/x-python",
   "name": "python",
   "nbconvert_exporter": "python",
   "pygments_lexer": "ipython3",
   "version": "3.11.9"
  },
  "orig_nbformat": 4
 },
 "nbformat": 4,
 "nbformat_minor": 2
}
