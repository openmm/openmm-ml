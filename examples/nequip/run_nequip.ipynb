{
 "cells": [
  {
   "attachments": {},
   "cell_type": "markdown",
   "metadata": {},
   "source": [
    "# Example: using OpenMM to run a simulation with a NequIP ML potential\n",
    "\n",
    "You can run this example directly in your browser: [![Open On Colab](https://colab.research.google.com/assets/colab-badge.svg)](https://colab.research.google.com/github/sef43/openmm-ml/blob/nequip/examples/nequip/run_nequip.ipynb)"
   ]
  },
  {
   "cell_type": "markdown",
   "metadata": {},
   "source": [
    "## Install Conda\n",
    "\n",
    "[Conda](https://docs.conda.io/) is a package and environment manager. On Google Colab, Conda is installed with [conda-colab](https://github.com/jaimergp/condacolab). On your computer, you should follow these [installation instructions](https://docs.conda.io/projects/conda/en/latest/user-guide/install/index.html).\n",
    "\n",
    "⚠️ Do not use conda-colab on your computer!"
   ]
  },
  {
   "cell_type": "code",
   "execution_count": null,
   "metadata": {},
   "outputs": [],
   "source": [
    "!pip install -q condacolab\n",
    "import condacolab\n",
    "condacolab.install_mambaforge() # use mamba on colab because it is faster than conda"
   ]
  },
  {
   "attachments": {},
   "cell_type": "markdown",
   "metadata": {},
   "source": [
    "## Install software\n",
    "\n",
    "First install everything we can from [conda-forge](https://conda-forge.org/).\n",
    "Then use pip.\n",
    "\n",
    "⚠️ The installation might take up to 10 min!"
   ]
  },
  {
   "cell_type": "code",
   "execution_count": null,
   "metadata": {},
   "outputs": [],
   "source": [
    "#https://github.com/openmm/openmm-torch/issues/88\n",
    "%env CONDA_OVERRIDE_CUDA=11.2 \n",
    "!mamba install -c conda-forge openmm-torch\n",
    "\n",
    "!pip install git+https://github.com/mir-group/nequip@develop\n",
    "!pip install git+https://github.com/sef43/openmm-ml@nequip"
   ]
  },
  {
   "attachments": {},
   "cell_type": "markdown",
   "metadata": {},
   "source": [
    "## Get the files we need to run the example"
   ]
  },
  {
   "cell_type": "code",
   "execution_count": null,
   "metadata": {},
   "outputs": [],
   "source": [
    "!wget https://raw.githubusercontent.com/sef43/openmm-ml/nequip/examples/nequip/toluene.pdb\n",
    "!wget https://raw.githubusercontent.com/sef43/openmm-ml/nequip/examples/nequip/example_model_deployed.pth"
   ]
  },
  {
   "attachments": {},
   "cell_type": "markdown",
   "metadata": {},
   "source": [
    "## Run simulation"
   ]
  },
  {
   "cell_type": "code",
   "execution_count": 2,
   "metadata": {},
   "outputs": [
    {
     "name": "stdout",
     "output_type": "stream",
     "text": [
      "#\"Step\",\"Potential Energy (kJ/mole)\",\"Temperature (K)\"\n",
      "100,-710472.8125,204.91816875199336\n",
      "200,-710471.125,278.916390104101\n",
      "300,-710463.3125,277.04602043230767\n",
      "400,-710468.125,238.63950096559105\n",
      "500,-710464.75,240.2583527290122\n",
      "600,-710459.0625,320.5201903960295\n",
      "700,-710446.9375,340.2834476858224\n",
      "800,-710440.625,391.44641207719144\n",
      "900,-710463.0,396.8090709289139\n",
      "1000,-710445.875,259.7874673879626\n",
      "-710513.4375 kJ/mol -169816.78716539196 kcal/mol\n"
     ]
    }
   ],
   "source": [
    "import openmm\n",
    "import openmm.app as app\n",
    "import openmm.unit as unit\n",
    "from openmmml import MLPotential\n",
    "from sys import stdout\n",
    "\n",
    "\"\"\"\n",
    "Uses a deployed trained NequIP model, toluene example:\n",
    "nequip-train configs/example.yaml\n",
    "nequip-deploy build --train-dir path/to/training/session/ example_model_deployed.pth\n",
    "\"\"\"\n",
    "\n",
    "# load toluene structure\n",
    "pdb = app.PDBFile(\"toluene.pdb\")\n",
    "\n",
    "# create a System with NequIP MLP\n",
    "\n",
    "# need to specify the unit conversion factors from the NequIP model units to OpenMM units.\n",
    "# distance: model is in Angstrom, OpenMM is in nanometers\n",
    "A_to_nm = 0.1\n",
    "# energy: model is in kcal/mol, OpenMM is in kJ/mol\n",
    "kcal_to_kJ_per_mol = 4.184\n",
    "\n",
    "potential = MLPotential('nequip', model_path='example_model_deployed.pth',\n",
    "                        distance_to_nm=A_to_nm,\n",
    "                        energy_to_kJ_per_mol=kcal_to_kJ_per_mol)\n",
    "\n",
    "system = potential.createSystem(pdb.topology)\n",
    "\n",
    "# run langevin dynamics at 300K for 1000 steps\n",
    "integrator = openmm.LangevinIntegrator(300*unit.kelvin, 10.0/unit.picoseconds, 1.0*unit.femtosecond)\n",
    "simulation=app.Simulation(pdb.topology, system, integrator)\n",
    "simulation.context.setPositions(pdb.positions)\n",
    "simulation.reporters.append(app.PDBReporter('output.pdb', 100))\n",
    "simulation.reporters.append(app.StateDataReporter(stdout, 100, step=True,\n",
    "        potentialEnergy=True, temperature=True))\n",
    "\n",
    "simulation.step(1000)\n",
    "\n",
    "# Minimize the energy\n",
    "simulation.minimizeEnergy()\n",
    "energy=simulation.context.getState(getEnergy=True).getPotentialEnergy()\n",
    "print(energy, energy.in_units_of(unit.kilocalorie_per_mole))"
   ]
  }
 ],
 "metadata": {
  "kernelspec": {
   "display_name": "neqmm",
   "language": "python",
   "name": "python3"
  },
  "language_info": {
   "codemirror_mode": {
    "name": "ipython",
    "version": 3
   },
   "file_extension": ".py",
   "mimetype": "text/x-python",
   "name": "python",
   "nbconvert_exporter": "python",
   "pygments_lexer": "ipython3",
   "version": "3.10.9"
  },
  "orig_nbformat": 4,
  "vscode": {
   "interpreter": {
    "hash": "413bac2e6b7bbc56e28392734551129ace8c921fbbb9e9273c3258497d1da304"
   }
  }
 },
 "nbformat": 4,
 "nbformat_minor": 2
}
